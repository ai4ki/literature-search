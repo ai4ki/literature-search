{
 "cells": [
  {
   "cell_type": "markdown",
   "id": "d4e5dab6",
   "metadata": {},
   "source": [
    "# Smart Querying\n",
    "\n",
    "*Last updated: 01/21/2022*\n",
    " \n",
    "This notebook allows you to automatically create a Boolean search string from an input text like, for example, an abstract (see Tool 1). It also helps you to find synonyms for search terms and to translate a search string from British to U.S. English (and vice versa).\n",
    "\n",
    "If you prefer to get creative on natural language search strings, Tool 2 provides some support.\n",
    "\n",
    "## Working with Jupyter notebooks\n",
    "\n",
    "In case you are not familiar with Jupyter notebooks, this is how to go about it: In order to execute a piece of code, click inside a cell (the ones with `[]` to the left) and press Shift+Enter. Wait until the cell is done--that's when the `*` in `[]` turned into a number--and move on to the next cell.\n",
    "\n",
    "If you get inconceivable error messages or the notebook gets stuck, choose \"Restart & Clear Output\" in the \"Kernel\" dropdown-menu above.\n",
    "___\n",
    "**Please help us to improve this tool by [emailing us](mailto:ai4ki.dev@gmail.com?subject=ai4ki-tools:%20Smart%20Querying) your update ideas or error reports.**\n",
    "___"
   ]
  },
  {
   "cell_type": "code",
   "execution_count": null,
   "id": "d87abe9f",
   "metadata": {},
   "outputs": [],
   "source": [
    "import pprint\n",
    "\n",
    "from PyDictionary import PyDictionary\n",
    "from ai4ki_utils.smart_query_utils import *\n",
    "\n",
    "!python -m spacy download en_core_web_sm"
   ]
  },
  {
   "cell_type": "markdown",
   "id": "4d9d5806",
   "metadata": {},
   "source": [
    "## Tool 1: Create Query String from Text"
   ]
  },
  {
   "cell_type": "markdown",
   "id": "c0d60d7e",
   "metadata": {},
   "source": [
    "### Preparation: Load Input Text\n",
    "Create a `.txt`-file of your text, upload it to the base directory, change the variable `filename` below accordingly,  and run the cell."
   ]
  },
  {
   "cell_type": "code",
   "execution_count": null,
   "id": "ed4a979d",
   "metadata": {},
   "outputs": [],
   "source": [
    "filename = 'abstract.txt'\n",
    "with open(filename, 'r', encoding='utf-8') as f: text = f.read()\n",
    "text = text.replace('\\n',' ')\n",
    "my_queries = [] # We need that later for exporting queries"
   ]
  },
  {
   "cell_type": "markdown",
   "id": "063ccd3d",
   "metadata": {},
   "source": [
    "### (A)  The fast, efficient, and solid way: statistical keyword extraction\n",
    "For extracting relevant keywords from your text, we use the method described [here](https://www.sciencedirect.com/science/article/abs/pii/S0020025519308588?via%3Dihub) and documented [here](https://github.com/LIAAD/yake).\n",
    "\n",
    "Note that this method doesn't select for different parts of speech (but it also doesn't return stopwords). However, we found that using only proper nouns, nouns, and verbs yields better search strings. As a default setting, therefore, we discard all other types of words, except when they appear in a multi-term keyword (that is, an n-gram with n>1). If you want to override this setting, change the paramter `org_kw`to `True`.\n",
    "\n",
    "After keyword extraction, we apply the following simple recipe to cook up a Boolean search string: We chain the first `top_k` keywords together with the AND-operator, concatenate the remaining terms with the OR-operator, and link up the two resulting expressions with 'AND'.\n",
    "\n",
    "If you're unsatisfied with the result, try adjusting the following parameters:\n",
    "\n",
    "- `num_keywords`: maximum number of keywords to extract\n",
    "- `ngram_limit`: maximum number of terms in a keyword\n",
    "- `dedup_value`: [0,1], controls repetition of words in keyword list (only relevant, when `ngram_limit>1`); set it low to reduce repetions; we found that a value of 0.3 yields good results (note that low values may result in less keywords overall)\n",
    "\n",
    "If that doesn't work, try changing the `language`-parameter to match the language of your text (use the normal international country codes like \"en\" or \"de\"). \n",
    "\n",
    "*Run the following cell to create your query.*"
   ]
  },
  {
   "cell_type": "code",
   "execution_count": null,
   "id": "a10db861",
   "metadata": {},
   "outputs": [],
   "source": [
    "kwe_query, keywords = query_constructor(text,\n",
    "        org_kw=False,\n",
    "        language='en',\n",
    "        num_keywords=15,\n",
    "        top_k=3,\n",
    "        ngram_limit=1,\n",
    "        dedup_value=0.3)"
   ]
  },
  {
   "cell_type": "markdown",
   "id": "458ee969",
   "metadata": {},
   "source": [
    "*If you like a suggested query, run the following cell to add it to the export list.*"
   ]
  },
  {
   "cell_type": "code",
   "execution_count": null,
   "id": "2315c60f",
   "metadata": {},
   "outputs": [],
   "source": [
    "my_queries.append(kwe_query)"
   ]
  },
  {
   "cell_type": "markdown",
   "id": "963c2e2e",
   "metadata": {},
   "source": [
    "### (B) The slow, expensive, and extravagant way: neural query generation\n",
    "Here we use the [Huggingface Transformer](https://huggingface.co/docs/transformers/index) module to let GPT-2 generate a Boolean search string all by its own.\n",
    "\n",
    "Large language models like GPT-2 use a lot of compute. Therefore, for the sake of our climate, we urge you to use this option with restraint.  \n",
    "\n",
    "If you're unsatisfied with the result, try changing the `temperature` parameter of the model (between 0 and 1). Temperature controls the randomness of the output text: The higher the value the more random--or 'creative'--it is. Note that it sometimes takes several model runs to get a reasonable result. Not surprisingly, we found that GPT-3 perfroms much better at this task. You can try this out in our notebook `GPT_Playground.ipynb`.\n",
    "\n",
    "You can also adjust the maximum length of the output with the parameter `maxq_length` (measured in the number of tokens, with 10 tokens corresponding to roughly 7.5 words).   \n",
    "\n",
    "*Run the following cell to generate your query.*"
   ]
  },
  {
   "cell_type": "code",
   "execution_count": null,
   "id": "f3ba7598",
   "metadata": {},
   "outputs": [],
   "source": [
    "llm_query = query_composer(text, maxq_length=30, temperature=0.9)\n",
    "print('THIS IS YOUR SERACH STRING:')\n",
    "print(llm_query)"
   ]
  },
  {
   "cell_type": "markdown",
   "id": "4ab6cfbb",
   "metadata": {},
   "source": [
    "*If you like a query suggested by GPT-2, run the following cell to add it to the export list.*"
   ]
  },
  {
   "cell_type": "code",
   "execution_count": null,
   "id": "b0bc5102",
   "metadata": {},
   "outputs": [],
   "source": [
    "my_queries.append(llm_query)"
   ]
  },
  {
   "cell_type": "markdown",
   "id": "6aceb966",
   "metadata": {},
   "source": [
    "### Refine your search string with synoyms\n",
    "In order to refine your search string, you can replace a particular term in your search string with a sequence of OR-chained synonyms.\n",
    "\n",
    "Note that terms appearing in n-gram-keywords (with n>1) are not replaced.  \n",
    "\n",
    "*Follow the instructions in the cell below and run it.*  "
   ]
  },
  {
   "cell_type": "code",
   "execution_count": null,
   "id": "71583fe9",
   "metadata": {},
   "outputs": [],
   "source": [
    "# Enter the term you want replaced with synonyms:\n",
    "term_to_be_replaced = \"livestock\" \n",
    "\n",
    "# Enter the search string you want modified (options: kwe_query, llm_query);\n",
    "# in case you want more than one term replaced, choose syn_query and run the cell again\n",
    "query_to_be_refined = kwe_query   \n",
    "\n",
    "syn_query = query_synonymizer(query_to_be_refined, term=term_to_be_replaced)\n",
    "print(syn_query)"
   ]
  },
  {
   "cell_type": "markdown",
   "id": "3aa53762",
   "metadata": {},
   "source": [
    "*If you like a synonymized query, run the following cell to add it to the export list.*"
   ]
  },
  {
   "cell_type": "code",
   "execution_count": null,
   "id": "9ad805cd",
   "metadata": {},
   "outputs": [],
   "source": [
    "my_queries.append(syn_query)"
   ]
  },
  {
   "cell_type": "markdown",
   "id": "6c0944c4",
   "metadata": {},
   "source": [
    "### Translate between American and British English\n",
    "*Follow the instructions in the cell below and run it.* "
   ]
  },
  {
   "cell_type": "code",
   "execution_count": null,
   "id": "13e1e329",
   "metadata": {},
   "outputs": [],
   "source": [
    "# Choose query to be translated (options: kwe_query, llm_query, syn_query)\n",
    "query = kwe_query\n",
    "\n",
    "# Choose direction of translation (options: us2uk and uk2us)\n",
    "direction = \"uk2us\"\n",
    "trl_query = us_vs_uk_en(query, direction)\n",
    "my_queries.append(trl_query)\n",
    "print(trl_query)"
   ]
  },
  {
   "cell_type": "markdown",
   "id": "8ada6b2a",
   "metadata": {},
   "source": [
    "## Tool 2: Get Creative with Natural Language Queries"
   ]
  },
  {
   "cell_type": "markdown",
   "id": "e72f0f6b",
   "metadata": {},
   "source": [
    "### Enter some query\n",
    "*If you use a well defined technical term, which you want keep as such, enclose it in exclamation marks, like so `!biodiversity!`*<br>\n",
    "*If you use technical composites, stitch them together with the ampersand, like so `!climate&change!`.* "
   ]
  },
  {
   "cell_type": "code",
   "execution_count": null,
   "id": "6477d94c",
   "metadata": {},
   "outputs": [],
   "source": [
    "# Enter query\n",
    "query = input('Enter query: ') \n",
    "print('Accepted query: ', query)"
   ]
  },
  {
   "cell_type": "markdown",
   "id": "bbf13d74",
   "metadata": {},
   "source": [
    "### Find synonyms for each term in your query"
   ]
  },
  {
   "cell_type": "code",
   "execution_count": null,
   "id": "c3c60211",
   "metadata": {
    "scrolled": true
   },
   "outputs": [],
   "source": [
    "# Find synonyms and suggest alternative queries\n",
    "query_syns = find_synonyms(query)\n",
    "\n",
    "pp = pprint.PrettyPrinter(indent=1)\n",
    "pp.pprint(query_syns)"
   ]
  },
  {
   "cell_type": "markdown",
   "id": "3bcbeae7",
   "metadata": {},
   "source": [
    "#### Quickly check the meaning of a word"
   ]
  },
  {
   "cell_type": "code",
   "execution_count": null,
   "id": "b611f74e",
   "metadata": {},
   "outputs": [],
   "source": [
    "word = input('Enter word: ')\n",
    "pydict = PyDictionary()\n",
    "for k,v in pydict.meaning(word).items():\n",
    "    print('==> PART OF SPEECH: ',k)\n",
    "    print('==> MEANING(s) OF {}: '.format(word))\n",
    "    print(*v, sep='\\n')"
   ]
  },
  {
   "cell_type": "markdown",
   "id": "c50ce9d9",
   "metadata": {},
   "source": [
    "### Automatically suggest alternative query formulations\n",
    "*You can run this cell as often as you like. Or until you come across something useful...* "
   ]
  },
  {
   "cell_type": "code",
   "execution_count": null,
   "id": "4d9f0d90",
   "metadata": {},
   "outputs": [],
   "source": [
    "# Pick random alternative query\n",
    "rnd_query = rand_query(query_syns)"
   ]
  },
  {
   "cell_type": "markdown",
   "id": "1bf00620",
   "metadata": {},
   "source": [
    "*If you like a random query, run the following cell to add it to the export list.*"
   ]
  },
  {
   "cell_type": "code",
   "execution_count": null,
   "id": "777adf13",
   "metadata": {},
   "outputs": [],
   "source": [
    "my_queries.append(rnd_query)"
   ]
  },
  {
   "cell_type": "markdown",
   "id": "cb3939ee",
   "metadata": {},
   "source": [
    "## Export your Queries \n",
    "*Run the following cell to export all selected queries to file `my_queries.txt`.*"
   ]
  },
  {
   "cell_type": "code",
   "execution_count": null,
   "id": "8860ae4d",
   "metadata": {},
   "outputs": [],
   "source": [
    "with open('my_queries.txt', 'w') as f:\n",
    "    for q in my_queries:\n",
    "        f.write(f\"{q}\\n\")"
   ]
  },
  {
   "cell_type": "code",
   "execution_count": null,
   "id": "a0cdaea0",
   "metadata": {},
   "outputs": [],
   "source": []
  }
 ],
 "metadata": {
  "kernelspec": {
   "display_name": "Python [conda env:ai4ki]",
   "language": "python",
   "name": "conda-env-ai4ki-py"
  },
  "language_info": {
   "codemirror_mode": {
    "name": "ipython",
    "version": 3
   },
   "file_extension": ".py",
   "mimetype": "text/x-python",
   "name": "python",
   "nbconvert_exporter": "python",
   "pygments_lexer": "ipython3",
   "version": "3.9.5"
  }
 },
 "nbformat": 4,
 "nbformat_minor": 5
}
