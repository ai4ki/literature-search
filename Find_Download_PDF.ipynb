{
 "cells": [
  {
   "cell_type": "markdown",
   "id": "355dad59",
   "metadata": {},
   "source": [
    "# Find and Download PDFs of Scientific Articles \n",
    "\n",
    "*Last updated: 01/27/2022*\n",
    " \n",
    "This simple notebook allows you to find and download PDF files of scientific publications. For finding PDFs, we use the unpaywall.org REST API, which is documented [here](https://unpaywall.org/products/api).    \n",
    "\n",
    "In order to use this notebook, you have to provide an Excel sheet with publication records. You can start with, for example, the output Excel files of one our SSE notebooks. Then you have two options. First, if your Excel sheet already contains direct PDF download links, we bulk download the files immediately. Second, if your Excel sheet only contains title, author, or DOI information, we try to find PDFs for you and download what we find automatically.  \n",
    "\n",
    "Downloaded files are stored in the directory `./pdfs`. For the filenames we use a substring of a publications's title. If no title information is provided, the filename is the row number of the publication (like so: `1.pdf`). \n",
    "\n",
    "\n",
    "## Working with Jupyter notebooks\n",
    "\n",
    "In case you are not familiar with Jupyter notebooks, this is how to go about it: In order to execute a piece of code, click inside a cell (the ones with `[]` to the left) and press Shift+Enter. Wait until the cell is done--that's when the `*` in `[]` turned into a number--and move on to the next cell.\n",
    "\n",
    "If you get inconceivable error messages or the notebook gets stuck, choose \"Restart & Clear Output\" in the \"Kernel\" dropdown-menu above.\n",
    "___\n",
    "**Please help us to improve this tool by [emailing us](mailto:ai4ki.dev@gmail.com?subject=ai4ki-tool:%20Find%20and%20Download%20PDFs) your update ideas or error reports.**\n",
    "___"
   ]
  },
  {
   "cell_type": "markdown",
   "id": "f7577eb1",
   "metadata": {},
   "source": [
    "## Preparation: Import libraries"
   ]
  },
  {
   "cell_type": "code",
   "execution_count": 1,
   "id": "575e9875",
   "metadata": {},
   "outputs": [],
   "source": [
    "from ai4ki_utils.pdf_request import *"
   ]
  },
  {
   "cell_type": "markdown",
   "id": "62bbac6e",
   "metadata": {},
   "source": [
    "## Option 1: Excel sheet with direct PDF download links\n",
    "\n",
    "*Enter the name of your Excel file below and run the cell.*"
   ]
  },
  {
   "cell_type": "code",
   "execution_count": null,
   "id": "5798c6da",
   "metadata": {},
   "outputs": [],
   "source": [
    "# Change the parameter 'fraction' if you want shorter or longer PDF filenames\n",
    "filename = 'MyPublicationList.xlsx'\n",
    "pdf_download(filename, pdf_dir='./pdfs', fraction=64)"
   ]
  },
  {
   "cell_type": "markdown",
   "id": "7cba40bb",
   "metadata": {},
   "source": [
    "## Option 2: Excel sheet with only title, author, or DOI information \n",
    "\n",
    "*Enter the name of your Excel file below and run the cell.*"
   ]
  },
  {
   "cell_type": "code",
   "execution_count": null,
   "id": "ecb41317",
   "metadata": {},
   "outputs": [],
   "source": [
    "# Change the parameter 'fraction' if you want shorter or longer PDF filenames\n",
    "filename = 'MyPublicationList.xlsx'\n",
    "find_pdfs(filename, pdf_dir='./pdfs', fraction=64)"
   ]
  },
  {
   "cell_type": "code",
   "execution_count": null,
   "id": "ab213fa3",
   "metadata": {},
   "outputs": [],
   "source": []
  }
 ],
 "metadata": {
  "kernelspec": {
   "display_name": "Python [conda env:ai4ki]",
   "language": "python",
   "name": "conda-env-ai4ki-py"
  },
  "language_info": {
   "codemirror_mode": {
    "name": "ipython",
    "version": 3
   },
   "file_extension": ".py",
   "mimetype": "text/x-python",
   "name": "python",
   "nbconvert_exporter": "python",
   "pygments_lexer": "ipython3",
   "version": "3.9.5"
  }
 },
 "nbformat": 4,
 "nbformat_minor": 5
}
